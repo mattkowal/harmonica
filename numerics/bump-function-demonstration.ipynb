{
 "cells": [
  {
   "cell_type": "code",
   "execution_count": 1,
   "id": "19ba8c32",
   "metadata": {},
   "outputs": [],
   "source": [
    "from splitstep_CMDNLS import *\n",
    "from IPython.display import Markdown as md"
   ]
  },
  {
   "cell_type": "code",
   "execution_count": 2,
   "id": "21aab9b3",
   "metadata": {},
   "outputs": [
    {
     "data": {
      "text/markdown": [
       "The bump function is defined in ```splitstep_CMDNLS.py``` as \n",
       "```python\n",
       "def bump(x, w=10) : # bump function supported on [-w,w]\n",
       "    temp = np.empty(len(x))\n",
       "    for i in range(len(x)):\n",
       "        if np.abs(x[i]) < w:\n",
       "            temp[i] = np.exp(1-w**2/(w**2-x[i]**2))\n",
       "        else:\n",
       "            temp[i] = 0\n",
       "    return temp \n",
       "```"
      ],
      "text/plain": [
       "<IPython.core.display.Markdown object>"
      ]
     },
     "metadata": {},
     "output_type": "display_data"
    }
   ],
   "source": [
    "f = open(\"splitstep_CMDNLS.py\", \"r\")\n",
    "s = f.read()\n",
    "display(md(\"The bump function is defined in ```splitstep_CMDNLS.py``` as \\n```python\\n\"+s[s.find('def bump'):s.find('# end of bump')]+\"\\n```\"))"
   ]
  },
  {
   "cell_type": "code",
   "execution_count": 3,
   "id": "4168b3d9",
   "metadata": {
    "scrolled": false
   },
   "outputs": [
    {
     "name": "stdout",
     "output_type": "stream",
     "text": [
      "Evolving the gauge transformed data : \n"
     ]
    },
    {
     "data": {
      "application/vnd.jupyter.widget-view+json": {
       "model_id": "",
       "version_major": 2,
       "version_minor": 0
      },
      "text/plain": [
       "  0%|          | 0/250 [00:00<?, ?it/s]"
      ]
     },
     "metadata": {},
     "output_type": "display_data"
    },
    {
     "name": "stdout",
     "output_type": "stream",
     "text": [
      "Undoing the gauge transform : \n"
     ]
    },
    {
     "data": {
      "application/vnd.jupyter.widget-view+json": {
       "model_id": "",
       "version_major": 2,
       "version_minor": 0
      },
      "text/plain": [
       "  0%|          | 0/50 [00:00<?, ?it/s]"
      ]
     },
     "metadata": {},
     "output_type": "display_data"
    },
    {
     "name": "stdout",
     "output_type": "stream",
     "text": [
      "Evolving the gauge transformed data : \n"
     ]
    },
    {
     "data": {
      "application/vnd.jupyter.widget-view+json": {
       "model_id": "",
       "version_major": 2,
       "version_minor": 0
      },
      "text/plain": [
       "  0%|          | 0/250 [00:00<?, ?it/s]"
      ]
     },
     "metadata": {},
     "output_type": "display_data"
    },
    {
     "ename": "KeyboardInterrupt",
     "evalue": "",
     "output_type": "error",
     "traceback": [
      "\u001b[0;31m---------------------------------------------------------------------------\u001b[0m",
      "\u001b[0;31mKeyboardInterrupt\u001b[0m                         Traceback (most recent call last)",
      "Cell \u001b[0;32mIn[3], line 13\u001b[0m\n\u001b[1;32m     10\u001b[0m dt \u001b[38;5;241m=\u001b[39m \u001b[38;5;241m0.001\u001b[39m\n\u001b[1;32m     12\u001b[0m u, t, xi \u001b[38;5;241m=\u001b[39m evolve(u_0, dx, T, dt, \u001b[38;5;241m5\u001b[39m)\n\u001b[0;32m---> 13\u001b[0m v, _, _ \u001b[38;5;241m=\u001b[39m \u001b[43mevolve\u001b[49m\u001b[43m(\u001b[49m\u001b[43mv_0\u001b[49m\u001b[43m,\u001b[49m\u001b[43m \u001b[49m\u001b[43mdx\u001b[49m\u001b[43m,\u001b[49m\u001b[43m \u001b[49m\u001b[43mT\u001b[49m\u001b[43m,\u001b[49m\u001b[43m \u001b[49m\u001b[43mdt\u001b[49m\u001b[43m,\u001b[49m\u001b[43m \u001b[49m\u001b[38;5;241;43m5\u001b[39;49m\u001b[43m)\u001b[49m\n",
      "File \u001b[0;32m~/Shared/harmonica/numerics/splitstep_CMDNLS.py:77\u001b[0m, in \u001b[0;36mevolve\u001b[0;34m(u_0, dx, T, dt, animation_steps, ungauge)\u001b[0m\n\u001b[1;32m     75\u001b[0m     \u001b[38;5;28;01mif\u001b[39;00m i \u001b[38;5;241m%\u001b[39m animation_steps \u001b[38;5;241m==\u001b[39m \u001b[38;5;241m0\u001b[39m:\n\u001b[1;32m     76\u001b[0m         v_anim[\u001b[38;5;28mint\u001b[39m(i \u001b[38;5;241m/\u001b[39m animation_steps)] \u001b[38;5;241m=\u001b[39m v_tmp\n\u001b[0;32m---> 77\u001b[0m     v_tmp \u001b[38;5;241m=\u001b[39m \u001b[43msplit_step\u001b[49m\u001b[43m(\u001b[49m\u001b[43mv_tmp\u001b[49m\u001b[43m,\u001b[49m\u001b[43m \u001b[49m\u001b[43mdt\u001b[49m\u001b[43m,\u001b[49m\u001b[43m \u001b[49m\u001b[43mxi\u001b[49m\u001b[43m)\u001b[49m\n\u001b[1;32m     78\u001b[0m \u001b[38;5;28;01mif\u001b[39;00m ungauge:\n\u001b[1;32m     79\u001b[0m     \u001b[38;5;28mprint\u001b[39m(\u001b[38;5;124m\"\u001b[39m\u001b[38;5;124mUndoing the gauge transform : \u001b[39m\u001b[38;5;124m\"\u001b[39m)\n",
      "File \u001b[0;32m~/Shared/harmonica/numerics/splitstep_CMDNLS.py:60\u001b[0m, in \u001b[0;36msplit_step\u001b[0;34m(v, dt, xi)\u001b[0m\n\u001b[1;32m     57\u001b[0m \u001b[38;5;28;01mdef\u001b[39;00m \u001b[38;5;21msplit_step\u001b[39m(v, dt, xi):\n\u001b[1;32m     58\u001b[0m     \u001b[38;5;66;03m# simulates timestep dt with split-step method\u001b[39;00m\n\u001b[1;32m     59\u001b[0m     v_new \u001b[38;5;241m=\u001b[39m linear_propagator(v, dt\u001b[38;5;241m/\u001b[39m\u001b[38;5;241m2\u001b[39m, xi)\n\u001b[0;32m---> 60\u001b[0m     v_new \u001b[38;5;241m=\u001b[39m \u001b[43mnonlinear_propagator\u001b[49m\u001b[43m(\u001b[49m\u001b[43mv_new\u001b[49m\u001b[43m,\u001b[49m\u001b[43m \u001b[49m\u001b[43mdt\u001b[49m\u001b[43m,\u001b[49m\u001b[43m \u001b[49m\u001b[43mxi\u001b[49m\u001b[43m)\u001b[49m\n\u001b[1;32m     61\u001b[0m     v_new \u001b[38;5;241m=\u001b[39m linear_propagator(v_new, dt\u001b[38;5;241m/\u001b[39m\u001b[38;5;241m2\u001b[39m, xi)\n\u001b[1;32m     62\u001b[0m     \u001b[38;5;28;01mreturn\u001b[39;00m v_new\n",
      "File \u001b[0;32m~/Shared/harmonica/numerics/splitstep_CMDNLS.py:54\u001b[0m, in \u001b[0;36mnonlinear_propagator\u001b[0;34m(v, dt, xi)\u001b[0m\n\u001b[1;32m     52\u001b[0m \u001b[38;5;28;01mdef\u001b[39;00m \u001b[38;5;21mnonlinear_propagator\u001b[39m(v, dt, xi):\n\u001b[1;32m     53\u001b[0m     \u001b[38;5;66;03m# returns e^{dt B} v for Bv = i(|D|(|v|^2) - 0.25|v|^4)v\u001b[39;00m\n\u001b[0;32m---> 54\u001b[0m     v_new \u001b[38;5;241m=\u001b[39m v \u001b[38;5;241m*\u001b[39m np\u001b[38;5;241m.\u001b[39mexp(\u001b[38;5;241m1\u001b[39mj\u001b[38;5;241m*\u001b[39mdt \u001b[38;5;241m*\u001b[39m (\u001b[43mabs_deriv\u001b[49m\u001b[43m(\u001b[49m\u001b[43mnp\u001b[49m\u001b[38;5;241;43m.\u001b[39;49m\u001b[43mabs\u001b[49m\u001b[43m(\u001b[49m\u001b[43mv\u001b[49m\u001b[43m)\u001b[49m\u001b[38;5;241;43m*\u001b[39;49m\u001b[38;5;241;43m*\u001b[39;49m\u001b[38;5;241;43m2\u001b[39;49m\u001b[43m,\u001b[49m\u001b[43mxi\u001b[49m\u001b[43m)\u001b[49m \u001b[38;5;241m-\u001b[39m \u001b[38;5;241m0.25\u001b[39m\u001b[38;5;241m*\u001b[39mnp\u001b[38;5;241m.\u001b[39mabs(v)\u001b[38;5;241m*\u001b[39m\u001b[38;5;241m*\u001b[39m\u001b[38;5;241m4\u001b[39m))\n\u001b[1;32m     55\u001b[0m     \u001b[38;5;28;01mreturn\u001b[39;00m v_new\n",
      "File \u001b[0;32m~/Shared/harmonica/numerics/splitstep_CMDNLS.py:37\u001b[0m, in \u001b[0;36mabs_deriv\u001b[0;34m(f, xi)\u001b[0m\n\u001b[1;32m     35\u001b[0m \u001b[38;5;28;01mdef\u001b[39;00m \u001b[38;5;21mabs_deriv\u001b[39m(f, xi):\n\u001b[1;32m     36\u001b[0m     \u001b[38;5;66;03m# computes |D|f\u001b[39;00m\n\u001b[0;32m---> 37\u001b[0m     f_hat \u001b[38;5;241m=\u001b[39m \u001b[43mnp\u001b[49m\u001b[38;5;241;43m.\u001b[39;49m\u001b[43mfft\u001b[49m\u001b[38;5;241;43m.\u001b[39;49m\u001b[43mfft\u001b[49m\u001b[43m(\u001b[49m\u001b[43mf\u001b[49m\u001b[43m)\u001b[49m\n\u001b[1;32m     38\u001b[0m     f_hat \u001b[38;5;241m*\u001b[39m\u001b[38;5;241m=\u001b[39m np\u001b[38;5;241m.\u001b[39mabs(xi)\n\u001b[1;32m     39\u001b[0m     f_new \u001b[38;5;241m=\u001b[39m np\u001b[38;5;241m.\u001b[39mfft\u001b[38;5;241m.\u001b[39mifft(f_hat)\n",
      "File \u001b[0;32m<__array_function__ internals>:200\u001b[0m, in \u001b[0;36mfft\u001b[0;34m(*args, **kwargs)\u001b[0m\n",
      "File \u001b[0;32m~/.local/lib/python3.11/site-packages/numpy/fft/_pocketfft.py:215\u001b[0m, in \u001b[0;36mfft\u001b[0;34m(a, n, axis, norm)\u001b[0m\n\u001b[1;32m    213\u001b[0m     n \u001b[38;5;241m=\u001b[39m a\u001b[38;5;241m.\u001b[39mshape[axis]\n\u001b[1;32m    214\u001b[0m inv_norm \u001b[38;5;241m=\u001b[39m _get_forward_norm(n, norm)\n\u001b[0;32m--> 215\u001b[0m output \u001b[38;5;241m=\u001b[39m \u001b[43m_raw_fft\u001b[49m\u001b[43m(\u001b[49m\u001b[43ma\u001b[49m\u001b[43m,\u001b[49m\u001b[43m \u001b[49m\u001b[43mn\u001b[49m\u001b[43m,\u001b[49m\u001b[43m \u001b[49m\u001b[43maxis\u001b[49m\u001b[43m,\u001b[49m\u001b[43m \u001b[49m\u001b[38;5;28;43;01mFalse\u001b[39;49;00m\u001b[43m,\u001b[49m\u001b[43m \u001b[49m\u001b[38;5;28;43;01mTrue\u001b[39;49;00m\u001b[43m,\u001b[49m\u001b[43m \u001b[49m\u001b[43minv_norm\u001b[49m\u001b[43m)\u001b[49m\n\u001b[1;32m    216\u001b[0m \u001b[38;5;28;01mreturn\u001b[39;00m output\n",
      "File \u001b[0;32m~/.local/lib/python3.11/site-packages/numpy/fft/_pocketfft.py:70\u001b[0m, in \u001b[0;36m_raw_fft\u001b[0;34m(a, n, axis, is_real, is_forward, inv_norm)\u001b[0m\n\u001b[1;32m     67\u001b[0m         a \u001b[38;5;241m=\u001b[39m z\n\u001b[1;32m     69\u001b[0m \u001b[38;5;28;01mif\u001b[39;00m axis \u001b[38;5;241m==\u001b[39m a\u001b[38;5;241m.\u001b[39mndim\u001b[38;5;241m-\u001b[39m\u001b[38;5;241m1\u001b[39m:\n\u001b[0;32m---> 70\u001b[0m     r \u001b[38;5;241m=\u001b[39m \u001b[43mpfi\u001b[49m\u001b[38;5;241;43m.\u001b[39;49m\u001b[43mexecute\u001b[49m\u001b[43m(\u001b[49m\u001b[43ma\u001b[49m\u001b[43m,\u001b[49m\u001b[43m \u001b[49m\u001b[43mis_real\u001b[49m\u001b[43m,\u001b[49m\u001b[43m \u001b[49m\u001b[43mis_forward\u001b[49m\u001b[43m,\u001b[49m\u001b[43m \u001b[49m\u001b[43mfct\u001b[49m\u001b[43m)\u001b[49m\n\u001b[1;32m     71\u001b[0m \u001b[38;5;28;01melse\u001b[39;00m:\n\u001b[1;32m     72\u001b[0m     a \u001b[38;5;241m=\u001b[39m swapaxes(a, axis, \u001b[38;5;241m-\u001b[39m\u001b[38;5;241m1\u001b[39m)\n",
      "\u001b[0;31mKeyboardInterrupt\u001b[0m: "
     ]
    }
   ],
   "source": [
    "deltax = 10000\n",
    "dx = 0.01\n",
    "w = 1000\n",
    "x = np.arange(-deltax,deltax,dx)\n",
    "\n",
    "u_0 = two_soliton(0,x)*bump(x,w)\n",
    "v_0 = two_soliton(0,x)\n",
    "\n",
    "T = 0.25\n",
    "dt = 0.001\n",
    "\n",
    "u, t, xi = evolve(u_0, dx, T, dt, 5)\n",
    "v, _, _ = evolve(v_0, dx, T, dt, 5)"
   ]
  },
  {
   "cell_type": "markdown",
   "id": "d2c09552",
   "metadata": {},
   "source": [
    "# Bumped Soliton"
   ]
  },
  {
   "cell_type": "code",
   "execution_count": null,
   "id": "55c072f5",
   "metadata": {
    "scrolled": false
   },
   "outputs": [],
   "source": [
    "where = np.abs(x) < 50\n",
    "anim = animate(np.abs(u[:,where]),t,x[where])\n",
    "display(HTML(anim.to_jshtml()))\n",
    "anim.save('animations/bumped-soliton.gif')"
   ]
  },
  {
   "cell_type": "markdown",
   "id": "4d85a6e4",
   "metadata": {},
   "source": [
    "# Normal Soliton"
   ]
  },
  {
   "cell_type": "code",
   "execution_count": null,
   "id": "a4d8d34b",
   "metadata": {},
   "outputs": [],
   "source": [
    "anim = animate(np.abs(v[:,where]),t,x[where])\n",
    "display(HTML(anim.to_jshtml()))\n",
    "anim.save('animations/unbumped-soliton.gif')"
   ]
  },
  {
   "cell_type": "code",
   "execution_count": null,
   "id": "4fb501a2",
   "metadata": {},
   "outputs": [],
   "source": []
  }
 ],
 "metadata": {
  "kernelspec": {
   "display_name": "Python 3 (ipykernel)",
   "language": "python",
   "name": "python3"
  },
  "language_info": {
   "codemirror_mode": {
    "name": "ipython",
    "version": 3
   },
   "file_extension": ".py",
   "mimetype": "text/x-python",
   "name": "python",
   "nbconvert_exporter": "python",
   "pygments_lexer": "ipython3",
   "version": "3.11.4"
  }
 },
 "nbformat": 4,
 "nbformat_minor": 5
}
