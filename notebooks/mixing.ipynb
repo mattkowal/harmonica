{
 "cells": [
  {
   "cell_type": "code",
   "execution_count": 1,
   "id": "0e39a3bc",
   "metadata": {},
   "outputs": [],
   "source": [
    "import numpy as np\n",
    "import matplotlib.pyplot as plt"
   ]
  },
  {
   "cell_type": "code",
   "execution_count": 2,
   "id": "d114794a",
   "metadata": {},
   "outputs": [],
   "source": [
    "N = 2000\n",
    "Q_0 = np.diag(np.array([(n-N)/N for n in range(N)]+ [2*n/N for n in range(N//2)], dtype=complex))\n",
    "N_x = Q_0.shape[0]"
   ]
  },
  {
   "cell_type": "code",
   "execution_count": 3,
   "id": "71141366",
   "metadata": {},
   "outputs": [],
   "source": [
    "L_0 = np.zeros(shape=(N_x, N_x), dtype=complex)\n",
    "for i in range(N_x):\n",
    "    for j in range(N_x):\n",
    "        if i != j:\n",
    "            L_0[i,j] = 1j/(Q_0[i,i] - Q_0[j,j])"
   ]
  },
  {
   "cell_type": "code",
   "execution_count": 4,
   "id": "20c93d33",
   "metadata": {},
   "outputs": [],
   "source": [
    "def L(t): return Q_0 + t*L_0"
   ]
  },
  {
   "cell_type": "code",
   "execution_count": 5,
   "id": "23a5587a",
   "metadata": {},
   "outputs": [],
   "source": [
    "def Q(t): return np.sort(np.linalg.eigvals(L(t)).real)"
   ]
  },
  {
   "cell_type": "code",
   "execution_count": 6,
   "id": "b81fb6ea",
   "metadata": {},
   "outputs": [],
   "source": [
    "N_bins = N//50\n",
    "delta_bins = 2/N_bins\n",
    "bins = np.array([2*n/N_bins -1 for n in range(N_bins)])"
   ]
  },
  {
   "cell_type": "code",
   "execution_count": 7,
   "id": "1e807a7f",
   "metadata": {},
   "outputs": [],
   "source": [
    "def Weyl(t):\n",
    "    positions = Q(t)\n",
    "    hist = np.zeros(N_bins)\n",
    "    for i in range(N_bins):\n",
    "        hist[i] = np.sum(positions < bins[i])\n",
    "    return hist"
   ]
  },
  {
   "cell_type": "code",
   "execution_count": 8,
   "id": "9d3bb432",
   "metadata": {},
   "outputs": [],
   "source": [
    "def density(t):\n",
    "    W = Weyl(t)\n",
    "    return (W[1:] - W[:-1])/delta_bins"
   ]
  },
  {
   "cell_type": "code",
   "execution_count": 20,
   "id": "3bbf31cd",
   "metadata": {
    "scrolled": false
   },
   "outputs": [
    {
     "name": "stdout",
     "output_type": "stream",
     "text": [
      "mixing-plots/00.png\n",
      "0.0\n",
      "mixing-plots/01.png\n",
      "1e-05\n",
      "mixing-plots/02.png\n",
      "2e-05\n",
      "mixing-plots/03.png\n",
      "3.0000000000000004e-05\n",
      "mixing-plots/04.png\n",
      "4e-05\n",
      "mixing-plots/05.png\n",
      "5e-05\n",
      "mixing-plots/06.png\n",
      "6.000000000000001e-05\n",
      "mixing-plots/07.png\n",
      "7.000000000000001e-05\n",
      "mixing-plots/08.png\n",
      "8e-05\n",
      "mixing-plots/09.png\n",
      "9e-05\n",
      "mixing-plots/10.png\n",
      "0.0001\n",
      "mixing-plots/11.png\n",
      "0.00011\n",
      "mixing-plots/12.png\n",
      "0.00012000000000000002\n",
      "mixing-plots/13.png\n",
      "0.00013000000000000002\n",
      "mixing-plots/14.png\n",
      "0.00014000000000000001\n",
      "mixing-plots/15.png\n",
      "0.00015000000000000001\n",
      "mixing-plots/16.png\n",
      "0.00016\n",
      "mixing-plots/17.png\n",
      "0.00017\n",
      "mixing-plots/18.png\n",
      "0.00018\n",
      "mixing-plots/19.png\n",
      "0.00019\n"
     ]
    }
   ],
   "source": [
    "for i in range(20):\n",
    "    print(\"mixing-plots/\"+f\"{i:02d}\"+\".png\")\n",
    "    t = i*1e-5\n",
    "    print(t)\n",
    "    plt.ylim([0,1.1])\n",
    "    plt.plot(bins[:-1],density(i*1e-5)/N)\n",
    "    plt.savefig(\"mixing-plots/\"+f\"{i:02d}\"+\".png\")\n",
    "    plt.close()"
   ]
  },
  {
   "cell_type": "code",
   "execution_count": 11,
   "id": "72f4d866",
   "metadata": {},
   "outputs": [
    {
     "name": "stdout",
     "output_type": "stream",
     "text": [
      "[-1.   -0.95 -0.9  -0.85 -0.8  -0.75 -0.7  -0.65 -0.6  -0.55 -0.5  -0.45\n",
      " -0.4  -0.35 -0.3  -0.25 -0.2  -0.15 -0.1  -0.05  0.    0.05  0.1   0.15\n",
      "  0.2   0.25  0.3   0.35  0.4   0.45  0.5   0.55  0.6   0.65  0.7   0.75\n",
      "  0.8   0.85  0.9 ]\n"
     ]
    }
   ],
   "source": [
    "print(bins[:-1])"
   ]
  },
  {
   "cell_type": "code",
   "execution_count": null,
   "id": "fbd5bc13",
   "metadata": {},
   "outputs": [],
   "source": []
  }
 ],
 "metadata": {
  "kernelspec": {
   "display_name": "Python 3 (ipykernel)",
   "language": "python",
   "name": "python3"
  },
  "language_info": {
   "codemirror_mode": {
    "name": "ipython",
    "version": 3
   },
   "file_extension": ".py",
   "mimetype": "text/x-python",
   "name": "python",
   "nbconvert_exporter": "python",
   "pygments_lexer": "ipython3",
   "version": "3.11.3"
  }
 },
 "nbformat": 4,
 "nbformat_minor": 5
}
