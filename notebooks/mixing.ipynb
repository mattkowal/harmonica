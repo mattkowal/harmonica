{
 "cells": [
  {
   "cell_type": "code",
   "execution_count": 1,
   "id": "0e39a3bc",
   "metadata": {},
   "outputs": [],
   "source": [
    "import numpy as np\n",
    "import matplotlib.pyplot as plt"
   ]
  },
  {
   "cell_type": "code",
   "execution_count": 2,
   "id": "d114794a",
   "metadata": {},
   "outputs": [],
   "source": [
    "N = 10000\n",
    "Q_0 = np.diag(np.array([(n-N)/N for n in range(N)]+ [2*n/N for n in range(N//2)], dtype=complex))\n",
    "N_x = Q_0.shape[0]"
   ]
  },
  {
   "cell_type": "code",
   "execution_count": null,
   "id": "71141366",
   "metadata": {},
   "outputs": [],
   "source": [
    "L_0 = np.zeros(shape=(N_x, N_x), dtype=complex)\n",
    "for i in range(N_x):\n",
    "    for j in range(N_x):\n",
    "        if i != j:\n",
    "            L_0[i,j] = 1j/(Q_0[i,i] - Q_0[j,j])"
   ]
  },
  {
   "cell_type": "code",
   "execution_count": null,
   "id": "20c93d33",
   "metadata": {},
   "outputs": [],
   "source": [
    "def L(t): return Q_0 + t*L_0"
   ]
  },
  {
   "cell_type": "code",
   "execution_count": null,
   "id": "23a5587a",
   "metadata": {},
   "outputs": [],
   "source": [
    "def Q(t): return np.sort(np.linalg.eigvals(L(t)).real)"
   ]
  },
  {
   "cell_type": "code",
   "execution_count": null,
   "id": "b81fb6ea",
   "metadata": {},
   "outputs": [],
   "source": [
    "N_bins = N//100\n",
    "delta_bins = 2/N_bins\n",
    "bins = np.array([2*n/N_bins -1 for n in range(N_bins)])"
   ]
  },
  {
   "cell_type": "code",
   "execution_count": null,
   "id": "1e807a7f",
   "metadata": {},
   "outputs": [],
   "source": [
    "def Weyl(t):\n",
    "    positions = Q(t)\n",
    "    hist = np.zeros(N_bins)\n",
    "    for i in range(N_bins):\n",
    "        hist[i] = np.sum(positions < bins[i])\n",
    "    return hist"
   ]
  },
  {
   "cell_type": "code",
   "execution_count": null,
   "id": "9d3bb432",
   "metadata": {},
   "outputs": [],
   "source": [
    "def density(t):\n",
    "    W = Weyl(t)\n",
    "    return (W[1:] - W[:-1])/delta_bins"
   ]
  },
  {
   "cell_type": "code",
   "execution_count": null,
   "id": "67d7a1da",
   "metadata": {},
   "outputs": [],
   "source": [
    "density(0)"
   ]
  },
  {
   "cell_type": "code",
   "execution_count": null,
   "id": "3bbf31cd",
   "metadata": {},
   "outputs": [],
   "source": [
    "plt.plot(density(1e-4))\n",
    "plt.show()"
   ]
  },
  {
   "cell_type": "code",
   "execution_count": null,
   "id": "7d5a6190",
   "metadata": {},
   "outputs": [],
   "source": []
  }
 ],
 "metadata": {
  "kernelspec": {
   "display_name": "Python 3 (ipykernel)",
   "language": "python",
   "name": "python3"
  },
  "language_info": {
   "codemirror_mode": {
    "name": "ipython",
    "version": 3
   },
   "file_extension": ".py",
   "mimetype": "text/x-python",
   "name": "python",
   "nbconvert_exporter": "python",
   "pygments_lexer": "ipython3",
   "version": "3.11.3"
  }
 },
 "nbformat": 4,
 "nbformat_minor": 5
}
