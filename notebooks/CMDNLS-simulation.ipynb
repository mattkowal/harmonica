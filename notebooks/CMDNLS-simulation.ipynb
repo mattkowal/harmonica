{
 "cells": [
  {
   "cell_type": "code",
   "execution_count": 1,
   "id": "099fc32b",
   "metadata": {},
   "outputs": [],
   "source": [
    "import numpy as np\n",
    "import matplotlib.pyplot as plt"
   ]
  },
  {
   "cell_type": "code",
   "execution_count": 4,
   "id": "f31968d2",
   "metadata": {},
   "outputs": [],
   "source": [
    "x_0 = -10\n",
    "x_1 = 10\n",
    "dx = 0.01\n",
    "\n",
    "x = np.arange(x_0, x_1, dx)\n",
    "\n",
    "t = 0\n",
    "T = 10\n",
    "dt = 0.01\n",
    "\n",
    "t = np.arange(0, T, dt)"
   ]
  },
  {
   "cell_type": "code",
   "execution_count": 5,
   "id": "25434dd0",
   "metadata": {},
   "outputs": [],
   "source": [
    "u_0 = np.sqrt(2)/(x - 1j)"
   ]
  },
  {
   "cell_type": "code",
   "execution_count": 6,
   "id": "644558b7",
   "metadata": {},
   "outputs": [
    {
     "name": "stderr",
     "output_type": "stream",
     "text": [
      "/tmp/ipykernel_4655/3035886716.py:2: ComplexWarning: Casting complex values to real discards the imaginary part\n",
      "  u[0] = u_0\n"
     ]
    },
    {
     "ename": "NameError",
     "evalue": "name 'timestep' is not defined",
     "output_type": "error",
     "traceback": [
      "\u001b[0;31m---------------------------------------------------------------------------\u001b[0m",
      "\u001b[0;31mNameError\u001b[0m                                 Traceback (most recent call last)",
      "Cell \u001b[0;32mIn[6], line 4\u001b[0m\n\u001b[1;32m      2\u001b[0m u[\u001b[38;5;241m0\u001b[39m] \u001b[38;5;241m=\u001b[39m u_0\n\u001b[1;32m      3\u001b[0m \u001b[38;5;28;01mfor\u001b[39;00m i \u001b[38;5;129;01min\u001b[39;00m \u001b[38;5;28mrange\u001b[39m(\u001b[38;5;28mlen\u001b[39m(t)\u001b[38;5;241m-\u001b[39m\u001b[38;5;241m1\u001b[39m):\n\u001b[0;32m----> 4\u001b[0m     u[i\u001b[38;5;241m+\u001b[39m\u001b[38;5;241m1\u001b[39m] \u001b[38;5;241m=\u001b[39m timestep(u[i], dt, dx)\n",
      "\u001b[0;31mNameError\u001b[0m: name 'timestep' is not defined"
     ]
    }
   ],
   "source": [
    "u = np.empty(shape=(len(t), len(x)))\n",
    "u[0] = u_0\n",
    "for i in range(len(t)-1):\n",
    "    u[i+1] = timestep(u[i], dt, dx)"
   ]
  },
  {
   "cell_type": "code",
   "execution_count": 7,
   "id": "46d74284",
   "metadata": {},
   "outputs": [],
   "source": [
    "def timestep(u, dt, dx):\n",
    "    u_xx = second_derivative(u)\n",
    "    nonlinearity = pi_plus(first_derivative(np.mod(u)**2)) * u\n",
    "    return 1j * u_xx + 2 * nonlinearity"
   ]
  },
  {
   "cell_type": "code",
   "execution_count": 8,
   "id": "0a9aef24",
   "metadata": {},
   "outputs": [],
   "source": [
    "def first_derivative(u):\n",
    "    return\n",
    "\n",
    "def second_derivative(u):\n",
    "    return\n",
    "\n",
    "def pi_plus(u):\n",
    "    return"
   ]
  },
  {
   "cell_type": "code",
   "execution_count": null,
   "id": "284b6001",
   "metadata": {},
   "outputs": [],
   "source": []
  }
 ],
 "metadata": {
  "kernelspec": {
   "display_name": "Python 3 (ipykernel)",
   "language": "python",
   "name": "python3"
  },
  "language_info": {
   "codemirror_mode": {
    "name": "ipython",
    "version": 3
   },
   "file_extension": ".py",
   "mimetype": "text/x-python",
   "name": "python",
   "nbconvert_exporter": "python",
   "pygments_lexer": "ipython3",
   "version": "3.11.3"
  }
 },
 "nbformat": 4,
 "nbformat_minor": 5
}
