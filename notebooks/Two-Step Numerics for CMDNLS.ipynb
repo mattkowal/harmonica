{
 "cells": [
  {
   "cell_type": "code",
   "execution_count": 1,
   "id": "dccebd97",
   "metadata": {},
   "outputs": [],
   "source": [
    "import numpy as np\n",
    "import matplotlib.pyplot as plt\n",
    "from tqdm.notebook import tqdm\n",
    "from matplotlib.animation import FuncAnimation\n",
    "from IPython.display import HTML"
   ]
  },
  {
   "cell_type": "markdown",
   "id": "7a3503c6",
   "metadata": {},
   "source": [
    "The Calogero-Moser Derivative Nonlinear Schrodinger equation is\n",
    "$$iu_t + u_xx + 2 D_+ (|u|^2)u = 0.$$\n",
    "After making the gauge transformation\n",
    "$$v(x) := u(x)e^{-\\frac{i}{2} \\int_{-\\infty}^x |u(y)|^2 dy},$$\n",
    "we arrive at the equivalent equation\n",
    "$$i v_t + v_{xx} + |D| (|v|^2) v - \\frac{1}{4} |v|^4 v = 0.$$\n",
    "Letting $A$ and $B$ be operators such that $Av = iv_{xx}$ and $Bv = i(|D|(|v|^2) - \\frac{1}{4}|v|^4)v$, then we have\n",
    "$$v_t = (A + B)v,$$\n",
    "so that\n",
    "$$v(t) = e^{t(A+B)}v_0.$$\n",
    "To compute $e^{tA}$, we need to solve the linear Schrodinger equation\n",
    "$$v_t = iv_{xx},$$\n",
    "which"
   ]
  },
  {
   "cell_type": "code",
   "execution_count": 42,
   "id": "c4e5f90b",
   "metadata": {},
   "outputs": [],
   "source": [
    "def gauge_transform(u):\n",
    "    \"\"\"Apply Tao's gauge transform\"\"\"\n",
    "    v = u * np.exp(-0.5j * np.cumsum(np.abs(u)**2) * dx)\n",
    "    return v\n",
    "\n",
    "def reverse_gauge_transform(v):\n",
    "    \"\"\"Apply Tao's gauge transform in reverse\"\"\"\n",
    "    u = v * np.exp(0.5j * np.cumsum(np.abs(v)**2) * dx)\n",
    "    return u\n",
    "\n",
    "def linear_propagator(v, dt):\n",
    "    \"\"\"Return e^{dt A} v\"\"\"\n",
    "    v_hat = np.fft.fft(v)\n",
    "    v_hat *= np.exp(-1j * dt * xi**2)\n",
    "    v_new = np.fft.ifft(v_hat)\n",
    "    return v_new\n",
    "\n",
    "def abs_deriv(f):\n",
    "    \"\"\"Compute |D|f\"\"\"\n",
    "    f_hat = np.fft.fft(f)\n",
    "    f_hat *= np.abs(xi)\n",
    "    f_new = np.fft.ifft(f_hat)\n",
    "    return f_new\n",
    "\n",
    "def nonlinear_propagator(v, dt):\n",
    "    \"\"\"Return e^{dt B} v\"\"\"\n",
    "    v_new = v * np.exp(1j * dt * (abs_deriv(np.abs(v)**2) - 0.25 * np.abs(v)**4))\n",
    "    return v_new\n",
    "\n",
    "def split_step(v, dt):\n",
    "    \"\"\"Do one timestep using split step method\"\"\"\n",
    "    v_new = linear_propagator(v, dt/2)\n",
    "    v_new = nonlinear_propagator(v_new, dt)\n",
    "    v_new = linear_propagator(v_new, dt/2)\n",
    "    return v_new\n",
    "\n",
    "def evolve(v_0, T, dt, animation_steps):\n",
    "    v_tmp = np.copy(v_0)\n",
    "    \n",
    "    N_t = int(T / dt)\n",
    "    N_t_anim = int(N_t/animation_steps)\n",
    "    v_anim = np.empty(shape=(N_t_anim, N_x), dtype=complex)\n",
    "    t_anim = np.arange(0, T, dt)[::animation_steps]\n",
    "    \n",
    "    for i in tqdm(range(N_t)):\n",
    "        if i % animation_steps == 0:\n",
    "            v_anim[int(i / animation_steps)] = v_tmp\n",
    "        v_tmp = split_step(v_tmp, dt)\n",
    "    return v_anim, t_anim\n",
    "\n",
    "def animate(f, t, x):\n",
    "    fig, ax = plt.subplots()\n",
    "    \n",
    "    ax.set_xlim(x[0], x[-1])\n",
    "    ax.set_ylim(np.min(f), np.max(f))\n",
    "    \n",
    "    line, = ax.plot(x, np.abs(f[0]))\n",
    "\n",
    "    def update(frame):\n",
    "        line.set_ydata(f[frame])\n",
    "        return line,\n",
    "    \n",
    "    animation = FuncAnimation(fig, update, frames=len(t), interval=50, blit=True)\n",
    "    \n",
    "    plt.show()\n",
    "    \n",
    "    return animation\n",
    "\n",
    "def two_soliton(t, x, gamma_1, gamma_2, rho, lamb, phi):\n",
    "    return np.exp(1j * phi) * np.sqrt(2 * rho) * (gamma_2 + 2 * lamb * t + (1j / lamb) - x) / (x**2  - (gamma_1 - 1j*rho + gamma_2 + 2 * lamb * t) * x + (gamma_1 - 1j * rho) * (gamma_2 + 2 * lamb * t) - lamb**(-2))\n",
    "\n",
    "def one_soliton(x):\n",
    "    return np.sqrt(2) / (x + 1j)\n",
    "\n",
    "def mass(v):\n",
    "    return np.sum(np.abs(v)**2) * dx\n",
    "\n",
    "def pi_plus(v):\n",
    "    v_hat = np.fft.fft(v)\n",
    "    v_hat *= np.where(xi >= 0, 1, 0)\n",
    "    v_new = np.fft.ifft(v_hat)\n",
    "    return v_new\n",
    "\n",
    "def energy(v):\n",
    "    integrand = np.gradient(v) / dx - 1j * pi_plus(np.abs(v)**2) * v\n",
    "    return 0.5 * np.sum(np.abs(integrand)**2) * dx"
   ]
  },
  {
   "cell_type": "code",
   "execution_count": 54,
   "id": "5572be64",
   "metadata": {},
   "outputs": [],
   "source": [
    "x_0 = -100\n",
    "x_1 = 100\n",
    "dx = 0.0001\n",
    "\n",
    "x = np.arange(x_0, x_1, dx)\n",
    "N_x = len(x)\n",
    "xi = np.fft.fftfreq(N_x) * 2 * np.pi / dx\n",
    "\n",
    "#u_0 = two_soliton(0, x, 0, 0, 1, 1, 0)\n",
    "u_0 = one_soliton(x)\n",
    "v_0 = gauge_transform(u_0)"
   ]
  },
  {
   "cell_type": "code",
   "execution_count": null,
   "id": "3f00b9aa",
   "metadata": {},
   "outputs": [
    {
     "data": {
      "application/vnd.jupyter.widget-view+json": {
       "model_id": "83925d1eb0c84fbe9b5a23d13263b8a5",
       "version_major": 2,
       "version_minor": 0
      },
      "text/plain": [
       "  0%|          | 0/1000 [00:00<?, ?it/s]"
      ]
     },
     "metadata": {},
     "output_type": "display_data"
    }
   ],
   "source": [
    "T = 0.1\n",
    "dt = 0.0001\n",
    "v, t = evolve(v_0, T, dt, 1)"
   ]
  },
  {
   "cell_type": "code",
   "execution_count": null,
   "id": "c2aeaee7",
   "metadata": {
    "scrolled": false
   },
   "outputs": [],
   "source": [
    "where = np.abs(x) <= 10\n",
    "anim = animate(np.abs(v[:,where]), t, x[where])"
   ]
  },
  {
   "cell_type": "code",
   "execution_count": null,
   "id": "fcb928ad",
   "metadata": {},
   "outputs": [],
   "source": [
    "HTML(anim.to_jshtml())"
   ]
  },
  {
   "cell_type": "code",
   "execution_count": null,
   "id": "81697dd1",
   "metadata": {},
   "outputs": [],
   "source": []
  }
 ],
 "metadata": {
  "kernelspec": {
   "display_name": "Python 3 (ipykernel)",
   "language": "python",
   "name": "python3"
  },
  "language_info": {
   "codemirror_mode": {
    "name": "ipython",
    "version": 3
   },
   "file_extension": ".py",
   "mimetype": "text/x-python",
   "name": "python",
   "nbconvert_exporter": "python",
   "pygments_lexer": "ipython3",
   "version": "3.11.3"
  }
 },
 "nbformat": 4,
 "nbformat_minor": 5
}
