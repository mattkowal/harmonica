{
 "cells": [
  {
   "cell_type": "code",
   "execution_count": 16,
   "id": "dccebd97",
   "metadata": {},
   "outputs": [],
   "source": [
    "import numpy as np\n",
    "import matplotlib.pyplot as plt\n",
    "from tqdm.notebook import tqdm\n",
    "from matplotlib.animation import FuncAnimation\n",
    "from IPython.display import HTML"
   ]
  },
  {
   "cell_type": "markdown",
   "id": "7a3503c6",
   "metadata": {},
   "source": [
    "The Calogero-Moser Derivative Nonlinear Schrodinger equation is\n",
    "$$iu_t + u_xx + 2 D_+ (|u|^2)u = 0.$$\n",
    "After making the gauge transformation\n",
    "$$v(x) := u(x)e^{-\\frac{i}{2} \\int_{-\\infty}^x |u(y)|^2 dy},$$\n",
    "we arrive at the equivalent equation\n",
    "$$i v_t + v_{xx} + |D| (|v|^2) v - \\frac{1}{4} |v|^4 v = 0.$$\n",
    "Letting $A$ and $B$ be operators such that $Av = iv_{xx}$ and $Bv = i(|D|(|v|^2) - \\frac{1}{4}|v|^4)v$, then we have\n",
    "$$v_t = (A + B)v,$$\n",
    "so that\n",
    "$$v(t) = e^{t(A+B)}v_0.$$\n",
    "To compute $e^{tA}$, we need to solve the linear Schrodinger equation\n",
    "$$v_t = iv_{xx},$$\n",
    "which"
   ]
  },
  {
   "cell_type": "code",
   "execution_count": 2,
   "id": "c4e5f90b",
   "metadata": {},
   "outputs": [],
   "source": [
    "def linear_propagator(v, dt):\n",
    "    \"\"\"Return e^{dt A} v\"\"\"\n",
    "    v_hat = np.fft.fft(v)\n",
    "    v_hat *= np.exp(-1j * dt * xi**2)\n",
    "    v_new = np.fft.ifft(v_hat)\n",
    "    return v_new\n",
    "\n",
    "def nonlinear_propagator(v, dt):\n",
    "    \"\"\"Return e^{dt B} v.  TODO: implement this\"\"\"\n",
    "    return v\n",
    "\n",
    "def split_step(v, dt):\n",
    "    \"\"\"Do one timestep using split step method\"\"\"\n",
    "    v_new = linear_propagator(v, dt/2)\n",
    "    v_new = nonlinear_propagator(v, dt)\n",
    "    v_new = linear_propagator(v, dt/2)\n",
    "    return v_new\n",
    "\n",
    "def evolve(v_0):\n",
    "    v = np.empty(shape=(N_t, N_x), dtype=complex)\n",
    "    v[0] = v_0\n",
    "    for i in tqdm(range(N_t - 1)):\n",
    "        v[i+1] = split_step(v[i], dt)\n",
    "    return v"
   ]
  },
  {
   "cell_type": "code",
   "execution_count": 3,
   "id": "62e4d9b3",
   "metadata": {},
   "outputs": [],
   "source": [
    "x_0 = -100\n",
    "x_1 = 100\n",
    "dx = 0.001\n",
    "\n",
    "t_0 = 0\n",
    "t_1 = 1\n",
    "dt = 0.001\n",
    "\n",
    "x = np.arange(x_0, x_1, dx)\n",
    "t = np.arange(t_0, t_1, dt)\n",
    "\n",
    "N_x = len(x)\n",
    "N_t = len(t)\n",
    "\n",
    "xi = np.fft.fftfreq(N_x) * 2 * np.pi / dx\n",
    "\n",
    "v_0 = 1j*np.abs(1/(x + 1j))"
   ]
  },
  {
   "cell_type": "code",
   "execution_count": 4,
   "id": "f173a8f1",
   "metadata": {},
   "outputs": [
    {
     "data": {
      "application/vnd.jupyter.widget-view+json": {
       "model_id": "ad37c683e78e475fb625e9710b0bcf29",
       "version_major": 2,
       "version_minor": 0
      },
      "text/plain": [
       "  0%|          | 0/999 [00:00<?, ?it/s]"
      ]
     },
     "metadata": {},
     "output_type": "display_data"
    }
   ],
   "source": [
    "v = evolve(v_0)"
   ]
  },
  {
   "cell_type": "code",
   "execution_count": 18,
   "id": "ce440902",
   "metadata": {},
   "outputs": [],
   "source": [
    "def animate(f, t, x):\n",
    "    fig, ax = plt.subplots()\n",
    "    \n",
    "    ax.set_xlim(x_0, x_1)\n",
    "    ax.set_ylim(0, np.max(np.abs(f)))\n",
    "    \n",
    "    line, = ax.plot(x, np.abs(f[0]))\n",
    "\n",
    "    def update(frame):\n",
    "        line.set_ydata(f[frame])\n",
    "        return line,\n",
    "    \n",
    "    animation = FuncAnimation(fig, update, frames=len(t), interval=50, blit=True)\n",
    "    \n",
    "    plt.show()\n",
    "    \n",
    "    return animation\n",
    "\n",
    "def display(animation):\n",
    "    HTML(animation.to_jshtml())"
   ]
  },
  {
   "cell_type": "code",
   "execution_count": 17,
   "id": "4a3cd723",
   "metadata": {},
   "outputs": [
    {
     "data": {
      "image/png": "[encoded data removed]",
      "text/plain": [
       "<Figure size 640x480 with 1 Axes>"
      ]
     },
     "metadata": {},
     "output_type": "display_data"
    }
   ],
   "source": [
    "animation = animate(np.abs(v[::10,:]), t[::10], x)"
   ]
  },
  {
   "cell_type": "code",
   "execution_count": 19,
   "id": "cae9f58a",
   "metadata": {},
   "outputs": [],
   "source": [
    "display(animation)"
   ]
  },
  {
   "cell_type": "code",
   "execution_count": null,
   "id": "af055d6b",
   "metadata": {},
   "outputs": [],
   "source": []
  }
 ],
 "metadata": {
  "kernelspec": {
   "display_name": "Python 3 (ipykernel)",
   "language": "python",
   "name": "python3"
  },
  "language_info": {
   "codemirror_mode": {
    "name": "ipython",
    "version": 3
   },
   "file_extension": ".py",
   "mimetype": "text/x-python",
   "name": "python",
   "nbconvert_exporter": "python",
   "pygments_lexer": "ipython3",
   "version": "3.11.3"
  }
 },
 "nbformat": 4,
 "nbformat_minor": 5
}
